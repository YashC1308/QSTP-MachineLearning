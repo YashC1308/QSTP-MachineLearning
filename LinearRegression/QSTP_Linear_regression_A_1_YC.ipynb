{
  "nbformat": 4,
  "nbformat_minor": 0,
  "metadata": {
    "colab": {
      "name": "QSTP_Linear-regression_A-1_YC.ipynb",
      "provenance": [],
      "collapsed_sections": [],
      "authorship_tag": "ABX9TyPyUs5sl+JcXi9WZR43Cg6T",
      "include_colab_link": true
    },
    "kernelspec": {
      "name": "python3",
      "display_name": "Python 3"
    },
    "language_info": {
      "name": "python"
    }
  },
  "cells": [
    {
      "cell_type": "markdown",
      "metadata": {
        "id": "view-in-github",
        "colab_type": "text"
      },
      "source": [
        "<a href=\"https://colab.research.google.com/github/YashC1308/QSTP-MachineLearning/blob/main/QSTP_Linear_regression_A_1_YC.ipynb\" target=\"_parent\"><img src=\"https://colab.research.google.com/assets/colab-badge.svg\" alt=\"Open In Colab\"/></a>"
      ]
    },
    {
      "cell_type": "code",
      "source": [
        "import pandas as pd\n",
        "import numpy as np\n",
        "import matplotlib.pyplot as plt\n",
        "from sklearn import tree\n",
        "from sklearn.model_selection import train_test_split\n",
        "from sklearn.tree import DecisionTreeRegressor"
      ],
      "metadata": {
        "id": "IVw8lQhQ5Tj_"
      },
      "execution_count": 104,
      "outputs": []
    },
    {
      "cell_type": "code",
      "source": [
        "from numpy.core.fromnumeric import shape\n",
        "from sklearn.preprocessing import MinMaxScaler\n",
        "\n",
        "df = pd.read_csv('QSTP_LinReg.csv')\n",
        "\n",
        "\n",
        "features = ['AT','V','AP','RH']\n",
        "X = df.loc[:, features]\n",
        "y = df.loc[:, ['PE']]\n",
        "X_train, X_test, y_train, y_test = train_test_split(X, y, random_state=0, train_size = .80)\n",
        "\n",
        "norm = MinMaxScaler().fit(X_train)\n",
        "X_train_norm = norm.transform(X_train)\n",
        "X_test_norm = norm.transform(X_test)\n",
        "\n",
        "norm = MinMaxScaler().fit(y_train)\n",
        "y_train_norm = norm.transform(y_train)\n",
        "y_test_norm = norm.transform(y_test)\n",
        "\n",
        "n_samples = y_train_norm.size  # No. of samples taken\n",
        "n_features = 4  # No. of features / No. of values in X\n",
        "n_targets = 1  # No. of target variables / No. of values in y\n"
      ],
      "metadata": {
        "id": "dVKhlDRu0bMH"
      },
      "execution_count": 109,
      "outputs": []
    },
    {
      "cell_type": "code",
      "source": [
        "#loss function\n",
        "def loss_fn(y_hat, y):\n",
        "    return 1/n_samples * np.sum((y_hat - y)**2)"
      ],
      "metadata": {
        "id": "dxrcW1m_wts_"
      },
      "execution_count": 110,
      "outputs": []
    },
    {
      "cell_type": "code",
      "source": [
        "#gradient descent implementation\n",
        "\n",
        "W = np.random.normal(size=(n_targets, n_features))\n",
        "b = np.random.normal(size=(n_targets, 1))\n",
        "\n",
        "loss_history = []\n",
        "\n",
        "learning_rate =   0.01 \n",
        "num_epochs = 100  \n",
        "\n",
        "for epoch in range(num_epochs):\n",
        "    loss = 0\n",
        "    for i in range(n_samples):\n",
        "        X_i, y_i = X_train_norm[i].reshape(-1,1), y_train_norm[i].reshape(-1,1)\n",
        "        y_hat = np.dot(W, X_i) + b\n",
        "        \n",
        "        dL_dy = 2*(y_hat-y_i)\n",
        "        \n",
        "        dy_dW = X_i\n",
        "        dy_db = 1\n",
        "        \n",
        "        dL_dW = np.dot(dL_dy, dy_dW.T)\n",
        "        dL_db = dL_dy * dy_db\n",
        "        \n",
        "        W -= learning_rate * dL_dW\n",
        "        b -= learning_rate * dL_db\n",
        "\n",
        "        loss += loss_fn(y_hat, y_i)\n",
        "    \n",
        "    loss_history.append(loss)\n",
        "    print(\"Epoch: {}, Loss: {}\".format(epoch+1, loss))"
      ],
      "metadata": {
        "colab": {
          "base_uri": "https://localhost:8080/"
        },
        "id": "biSV2oaByyhT",
        "outputId": "0ccba469-7c9f-4d30-88ef-5cfa025a582a"
      },
      "execution_count": 111,
      "outputs": [
        {
          "output_type": "stream",
          "name": "stdout",
          "text": [
            "Epoch: 1, Loss: 0.03192479064326155\n",
            "Epoch: 2, Loss: 0.004459955497903041\n",
            "Epoch: 3, Loss: 0.003892141638861122\n",
            "Epoch: 4, Loss: 0.0038171366316638224\n",
            "Epoch: 5, Loss: 0.0037964323287142062\n",
            "Epoch: 6, Loss: 0.0037896072848122232\n",
            "Epoch: 7, Loss: 0.0037872465620643974\n",
            "Epoch: 8, Loss: 0.0037863932190413175\n",
            "Epoch: 9, Loss: 0.003786066214278786\n",
            "Epoch: 10, Loss: 0.003785931496889216\n",
            "Epoch: 11, Loss: 0.0037858714726361526\n",
            "Epoch: 12, Loss: 0.003785842703628367\n",
            "Epoch: 13, Loss: 0.0037858280770322775\n",
            "Epoch: 14, Loss: 0.0037858203183179793\n",
            "Epoch: 15, Loss: 0.0037858160857968002\n",
            "Epoch: 16, Loss: 0.003785813736250421\n",
            "Epoch: 17, Loss: 0.003785812418245071\n",
            "Epoch: 18, Loss: 0.003785811674334208\n",
            "Epoch: 19, Loss: 0.0037858112529558898\n",
            "Epoch: 20, Loss: 0.0037858110137822362\n",
            "Epoch: 21, Loss: 0.003785810877868289\n",
            "Epoch: 22, Loss: 0.0037858108005814086\n",
            "Epoch: 23, Loss: 0.003785810756615801\n",
            "Epoch: 24, Loss: 0.003785810731599928\n",
            "Epoch: 25, Loss: 0.003785810717364483\n",
            "Epoch: 26, Loss: 0.0037858107092631267\n",
            "Epoch: 27, Loss: 0.0037858107046524776\n",
            "Epoch: 28, Loss: 0.003785810702028403\n",
            "Epoch: 29, Loss: 0.0037858107005349353\n",
            "Epoch: 30, Loss: 0.0037858106996849546\n",
            "Epoch: 31, Loss: 0.003785810699201156\n",
            "Epoch: 32, Loss: 0.0037858106989258106\n",
            "Epoch: 33, Loss: 0.003785810698769123\n",
            "Epoch: 34, Loss: 0.0037858106986799174\n",
            "Epoch: 35, Loss: 0.003785810698629153\n",
            "Epoch: 36, Loss: 0.0037858106986002667\n",
            "Epoch: 37, Loss: 0.003785810698583835\n",
            "Epoch: 38, Loss: 0.0037858106985744627\n",
            "Epoch: 39, Loss: 0.00378581069856913\n",
            "Epoch: 40, Loss: 0.0037858106985661152\n",
            "Epoch: 41, Loss: 0.0037858106985643987\n",
            "Epoch: 42, Loss: 0.003785810698563383\n",
            "Epoch: 43, Loss: 0.003785810698562842\n",
            "Epoch: 44, Loss: 0.003785810698562516\n",
            "Epoch: 45, Loss: 0.0037858106985623374\n",
            "Epoch: 46, Loss: 0.003785810698562227\n",
            "Epoch: 47, Loss: 0.00378581069856217\n",
            "Epoch: 48, Loss: 0.0037858106985621406\n",
            "Epoch: 49, Loss: 0.003785810698562131\n",
            "Epoch: 50, Loss: 0.003785810698562127\n",
            "Epoch: 51, Loss: 0.0037858106985621085\n",
            "Epoch: 52, Loss: 0.0037858106985621085\n",
            "Epoch: 53, Loss: 0.003785810698562095\n",
            "Epoch: 54, Loss: 0.0037858106985621\n",
            "Epoch: 55, Loss: 0.003785810698562093\n",
            "Epoch: 56, Loss: 0.003785810698562095\n",
            "Epoch: 57, Loss: 0.003785810698562095\n",
            "Epoch: 58, Loss: 0.0037858106985620946\n",
            "Epoch: 59, Loss: 0.0037858106985620946\n",
            "Epoch: 60, Loss: 0.003785810698562094\n",
            "Epoch: 61, Loss: 0.0037858106985620946\n",
            "Epoch: 62, Loss: 0.003785810698562094\n",
            "Epoch: 63, Loss: 0.0037858106985620946\n",
            "Epoch: 64, Loss: 0.0037858106985620946\n",
            "Epoch: 65, Loss: 0.003785810698562094\n",
            "Epoch: 66, Loss: 0.003785810698562094\n",
            "Epoch: 67, Loss: 0.0037858106985620946\n",
            "Epoch: 68, Loss: 0.003785810698562094\n",
            "Epoch: 69, Loss: 0.0037858106985620946\n",
            "Epoch: 70, Loss: 0.0037858106985620946\n",
            "Epoch: 71, Loss: 0.003785810698562094\n",
            "Epoch: 72, Loss: 0.003785810698562094\n",
            "Epoch: 73, Loss: 0.0037858106985620946\n",
            "Epoch: 74, Loss: 0.003785810698562094\n",
            "Epoch: 75, Loss: 0.0037858106985620946\n",
            "Epoch: 76, Loss: 0.0037858106985620946\n",
            "Epoch: 77, Loss: 0.003785810698562094\n",
            "Epoch: 78, Loss: 0.003785810698562094\n",
            "Epoch: 79, Loss: 0.0037858106985620946\n",
            "Epoch: 80, Loss: 0.003785810698562094\n",
            "Epoch: 81, Loss: 0.0037858106985620946\n",
            "Epoch: 82, Loss: 0.0037858106985620946\n",
            "Epoch: 83, Loss: 0.003785810698562094\n",
            "Epoch: 84, Loss: 0.003785810698562094\n",
            "Epoch: 85, Loss: 0.0037858106985620946\n",
            "Epoch: 86, Loss: 0.003785810698562094\n",
            "Epoch: 87, Loss: 0.0037858106985620946\n",
            "Epoch: 88, Loss: 0.0037858106985620946\n",
            "Epoch: 89, Loss: 0.003785810698562094\n",
            "Epoch: 90, Loss: 0.003785810698562094\n",
            "Epoch: 91, Loss: 0.0037858106985620946\n",
            "Epoch: 92, Loss: 0.003785810698562094\n",
            "Epoch: 93, Loss: 0.0037858106985620946\n",
            "Epoch: 94, Loss: 0.0037858106985620946\n",
            "Epoch: 95, Loss: 0.003785810698562094\n",
            "Epoch: 96, Loss: 0.003785810698562094\n",
            "Epoch: 97, Loss: 0.0037858106985620946\n",
            "Epoch: 98, Loss: 0.003785810698562094\n",
            "Epoch: 99, Loss: 0.0037858106985620946\n",
            "Epoch: 100, Loss: 0.0037858106985620946\n"
          ]
        }
      ]
    },
    {
      "cell_type": "code",
      "source": [
        "# Plot change in history. X-axis is the epochs\n",
        "#how quickly W and b were achieved and loss history\n",
        "plt.plot(loss_history)\n",
        "print(W)\n",
        "print(b)"
      ],
      "metadata": {
        "colab": {
          "base_uri": "https://localhost:8080/",
          "height": 300
        },
        "id": "Ca7EzdivA8yH",
        "outputId": "af6c5be5-3f3d-42f1-a43b-716b9d1651b7"
      },
      "execution_count": 112,
      "outputs": [
        {
          "output_type": "stream",
          "name": "stdout",
          "text": [
            "[[-0.91995627 -0.1751863   0.03166132 -0.15920537]]\n",
            "[[1.08597538]]\n"
          ]
        },
        {
          "output_type": "display_data",
          "data": {
            "text/plain": [
              "<Figure size 432x288 with 1 Axes>"
            ],
            "image/png": "[encoded data removed]"
          },
          "metadata": {
            "needs_background": "light"
          }
        }
      ]
    },
    {
      "cell_type": "code",
      "source": [
        "square_diff =[]\n",
        "mean_diff = []\n",
        "mean = np.mean(y_test_norm)\n",
        "\n",
        "for i in range(y_test_norm.size):\n",
        "  X_i, y_i = X_test_norm[i].reshape(-1,1), y_test_norm[i].reshape(-1,1)\n",
        "  pred_values = np.dot(W, X_i) + b\n",
        "  square_diff.append((y_i - pred_values)**2)\n",
        "  mean_diff.append((y_i - mean)**2)\n",
        "\n",
        "sum1 = 0\n",
        "sum2 = 0\n",
        "\n",
        "for i in range(len(square_diff)):\n",
        "  sum1+=square_diff[i]\n",
        "  sum2+=mean_diff[i]\n",
        "\n",
        "r_square = 1 - (sum1/sum2)\n",
        "\n",
        "print(\"R-squared value\")\n",
        "print(r_square)"
      ],
      "metadata": {
        "colab": {
          "base_uri": "https://localhost:8080/"
        },
        "id": "qMZyi48oBuW2",
        "outputId": "b7a89bc4-34c0-4d71-9a4b-b67fc669b1ed"
      },
      "execution_count": 114,
      "outputs": [
        {
          "output_type": "stream",
          "name": "stdout",
          "text": [
            "R-squared value\n",
            "[[0.93157973]]\n"
          ]
        }
      ]
    }
  ]
}
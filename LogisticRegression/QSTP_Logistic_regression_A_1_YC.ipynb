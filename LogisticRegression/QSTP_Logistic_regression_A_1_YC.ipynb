{
  "nbformat": 4,
  "nbformat_minor": 0,
  "metadata": {
    "colab": {
      "name": "QSTP_Logistic-regression_A-1_YC.ipynb",
      "provenance": [],
      "collapsed_sections": [],
      "authorship_tag": "ABX9TyO5ZDMd1248y2JNe7kTYrDG",
      "include_colab_link": true
    },
    "kernelspec": {
      "name": "python3",
      "display_name": "Python 3"
    },
    "language_info": {
      "name": "python"
    }
  },
  "cells": [
    {
      "cell_type": "markdown",
      "metadata": {
        "id": "view-in-github",
        "colab_type": "text"
      },
      "source": [
        "<a href=\"https://colab.research.google.com/github/YashC1308/QSTP-MachineLearning/blob/main/QSTP_Logistic_regression_A_1_YC.ipynb\" target=\"_parent\"><img src=\"https://colab.research.google.com/assets/colab-badge.svg\" alt=\"Open In Colab\"/></a>"
      ]
    },
    {
      "cell_type": "code",
      "execution_count": 140,
      "metadata": {
        "id": "7AIyh0pAHNd5"
      },
      "outputs": [],
      "source": [
        "import pandas as pd\n",
        "import numpy as np\n",
        "import matplotlib.pyplot as plt\n",
        "from sklearn.model_selection import train_test_split\n",
        "from numpy.core.fromnumeric import shape\n",
        "from sklearn.preprocessing import MinMaxScaler\n"
      ]
    },
    {
      "cell_type": "code",
      "source": [
        "\n",
        "df = pd.read_csv('QSTP_LogReg.csv')\n",
        "\n",
        "\n",
        "features = ['Clump Thickness','Uniformity of Cell Size','Uniformity of Cell Shape','Marginal Adhesion','Single Epithelial Cell Size','Bare Nuclei','Bland Chromatin','Normal Nucleoli','Mitoses']\n",
        "X = df.loc[:, features]\n",
        "y = df.loc[:, ['Class']]\n",
        "X_train, X_test, y_train, y_test = train_test_split(X, y, random_state=0, train_size = .80)\n",
        "\n",
        "norm = MinMaxScaler().fit(X_train)\n",
        "X_train_norm = norm.transform(X_train)\n",
        "X_test_norm = norm.transform(X_test)\n",
        "\n",
        "norm = MinMaxScaler().fit(y_train)\n",
        "y_train_norm = norm.transform(y_train)\n",
        "y_test_norm = norm.transform(y_test)\n",
        "\n",
        "print(X_train_norm.shape)\n",
        "print(y_train_norm.shape)\n",
        "\n",
        "print(type(X_train_norm))"
      ],
      "metadata": {
        "colab": {
          "base_uri": "https://localhost:8080/"
        },
        "id": "Mryg3cEXLg7W",
        "outputId": "c9c1a562-7bd4-4011-ad00-c661975c878c"
      },
      "execution_count": 141,
      "outputs": [
        {
          "output_type": "stream",
          "name": "stdout",
          "text": [
            "(546, 9)\n",
            "(546, 1)\n",
            "<class 'numpy.ndarray'>\n"
          ]
        }
      ]
    },
    {
      "cell_type": "code",
      "source": [
        "def sigmoid(x):\n",
        "    return float(1.0 / float((1.0 + np.exp(-1.0*x))))"
      ],
      "metadata": {
        "id": "_Cggaud-NQIm"
      },
      "execution_count": 142,
      "outputs": []
    },
    {
      "cell_type": "code",
      "source": [
        "def predict():\n",
        "    predicted_y=[]\n",
        "    \n",
        "    for x in X_train_norm:\n",
        "        logit = np.dot(W,x)\n",
        "        predicted_y.append(sigmoid(logit)) \n",
        "        \n",
        "    return np.array(predicted_y)"
      ],
      "metadata": {
        "id": "pkmDhRg5kCTb"
      },
      "execution_count": 143,
      "outputs": []
    },
    {
      "cell_type": "code",
      "source": [
        "def cost_function(predicted_y,y): #the cost function mentioned above\n",
        "    error = []\n",
        "    for i in range(len(predicted_y)):\n",
        "      error_element=(-y[i]*np.log(predicted_y[i])) - ((1-y[i])*np.log(1-predicted_y[i]))\n",
        "      error.append(error_element)\n",
        "\n",
        "    error = np.asarray(error)\n",
        "    cf=(1/X_train_norm.shape[0])*sum(error)\n",
        "    \n",
        "    return cf,error"
      ],
      "metadata": {
        "id": "5v82hComlPlJ"
      },
      "execution_count": 144,
      "outputs": []
    },
    {
      "cell_type": "code",
      "source": [
        "def gradient_descent(lrate,epochs): \n",
        "    \n",
        "    total_expected_error=float(\"inf\")\n",
        "    errorlist=[]\n",
        "    finalepoch=0\n",
        "    \n",
        "    for epoch in range(epochs):\n",
        "        global W\n",
        "        \n",
        "        predictedY=predict() \n",
        "        total_error,error = cost_function(predictedY,y_train_norm)\n",
        "        gradient=np.dot(X_train_norm.T,error)/X_train_norm.shape[0]\n",
        "        \n",
        "        if epoch%10==0:\n",
        "            errorlist.append(total_error)\n",
        "            finalepoch+=1\n",
        "        \n",
        "        if (total_expected_error<total_error):\n",
        "            return errorlist,finalepoch\n",
        "            \n",
        "        total_expected_error=total_error\n",
        "        \n",
        "        \n",
        "        for (i,w) in enumerate(gradient):\n",
        "            W[i]+=float(-lrate)*w\n",
        "            \n",
        "    return errorlist,finalepoch     "
      ],
      "metadata": {
        "id": "TsKanOCjmPYf"
      },
      "execution_count": 145,
      "outputs": []
    },
    {
      "cell_type": "code",
      "source": [
        "W=np.random.uniform(size=X_train_norm.shape[1])\n",
        "print(W)\n",
        "print()\n",
        "total_error,finalepoch=gradient_descent(0.001,5000)\n",
        "\n",
        "print(total_error)\n",
        "print(finalepoch)\n",
        "#plotting \n",
        "plt.plot(range(finalepoch),total_error)\n",
        "plt.xlabel(\"epochs in 10's\")\n",
        "plt.ylabel(\"error\")\n",
        "plt.show()"
      ],
      "metadata": {
        "colab": {
          "base_uri": "https://localhost:8080/",
          "height": 386
        },
        "id": "VM1C7zwYmgam",
        "outputId": "ea550cba-ab2d-427f-9635-167f19fddfa0"
      },
      "execution_count": 178,
      "outputs": [
        {
          "output_type": "stream",
          "name": "stdout",
          "text": [
            "[0.95018753 0.05055896 0.03208226 0.30751583 0.53158638 0.38771356\n",
            " 0.97620098 0.17433149 0.99441183]\n",
            "\n",
            "[array([0.6579606]), array([0.65778427]), array([0.65760849]), array([0.65743327]), array([0.65725861]), array([0.65708451]), array([0.65691097]), array([0.656738]), array([0.65656558]), array([0.65639374]), array([0.65622247]), array([0.65605176]), array([0.65588163]), array([0.65571207]), array([0.65554309]), array([0.65537468]), array([0.65520685]), array([0.65503961]), array([0.65487295]), array([0.65470687]), array([0.65454138]), array([0.65437647]), array([0.65421216]), array([0.65404844]), array([0.65388532]), array([0.65372279]), array([0.65356086]), array([0.65339953]), array([0.6532388]), array([0.65307868]), array([0.65291916]), array([0.65276025]), array([0.65260195]), array([0.65244426]), array([0.65228719]), array([0.65213074]), array([0.6519749]), array([0.65181969]), array([0.6516651]), array([0.65151114]), array([0.6513578]), array([0.65120509]), array([0.65105302]), array([0.65090158]), array([0.65075077]), array([0.65060061]), array([0.65045109]), array([0.65030221]), array([0.65015398]), array([0.6500064]), array([0.64985946]), array([0.64971319]), array([0.64956756]), array([0.6494226]), array([0.6492783]), array([0.64913466]), array([0.64899169]), array([0.64884938]), array([0.64870775]), array([0.64856679]), array([0.64842651]), array([0.64828691]), array([0.64814799]), array([0.64800975]), array([0.6478722]), array([0.64773534]), array([0.64759918]), array([0.64746371]), array([0.64732893]), array([0.64719486]), array([0.6470615]), array([0.64692884]), array([0.64679689]), array([0.64666565]), array([0.64653514]), array([0.64640533]), array([0.64627626]), array([0.6461479]), array([0.64602028]), array([0.64589338]), array([0.64576723]), array([0.6456418]), array([0.64551712]), array([0.64539319]), array([0.64527]), array([0.64514756]), array([0.64502587]), array([0.64490495]), array([0.64478478]), array([0.64466538]), array([0.64454674]), array([0.64442888]), array([0.64431179]), array([0.64419547]), array([0.64407994]), array([0.6439652]), array([0.64385124]), array([0.64373807]), array([0.64362571]), array([0.64351414]), array([0.64340337]), array([0.64329341]), array([0.64318426]), array([0.64307593]), array([0.64296842]), array([0.64286173]), array([0.64275586]), array([0.64265083]), array([0.64254663]), array([0.64244327]), array([0.64234075]), array([0.64223908]), array([0.64213826]), array([0.64203829]), array([0.64193919]), array([0.64184095]), array([0.64174357]), array([0.64164707]), array([0.64155145]), array([0.64145671]), array([0.64136285]), array([0.64126988]), array([0.64117781]), array([0.64108664]), array([0.64099637]), array([0.64090701]), array([0.64081857]), array([0.64073104]), array([0.64064444]), array([0.64055876]), array([0.64047402]), array([0.64039022]), array([0.64030736]), array([0.64022545]), array([0.64014449]), array([0.64006449]), array([0.63998545]), array([0.63990738]), array([0.63983028]), array([0.63975417]), array([0.63967904]), array([0.6396049]), array([0.63953175]), array([0.63945961]), array([0.63938848]), array([0.63931835]), array([0.63924925]), array([0.63918117]), array([0.63911412]), array([0.6390481]), array([0.63898313]), array([0.6389192]), array([0.63885633]), array([0.63879452]), array([0.63873377]), array([0.6386741]), array([0.6386155]), array([0.63855799]), array([0.63850158]), array([0.63844625]), array([0.63839204]), array([0.63833893]), array([0.63828694]), array([0.63823608]), array([0.63818635]), array([0.63813775]), array([0.6380903]), array([0.638044]), array([0.63799886]), array([0.63795489]), array([0.63791209]), array([0.63787047]), array([0.63783004]), array([0.6377908]), array([0.63775277]), array([0.63771595]), array([0.63768034]), array([0.63764596]), array([0.63761282]), array([0.63758091]), array([0.63755026]), array([0.63752086]), array([0.63749272]), array([0.63746587]), array([0.63744029]), array([0.637416]), array([0.63739301]), array([0.63737133]), array([0.63735097]), array([0.63733192]), array([0.63731422]), array([0.63729785]), array([0.63728284]), array([0.63726918]), array([0.6372569]), array([0.63724599]), array([0.63723647]), array([0.63722835]), array([0.63722164]), array([0.63721634]), array([0.63721247]), array([0.63721003]), array([0.63720904])]\n",
            "203\n"
          ]
        },
        {
          "output_type": "display_data",
          "data": {
            "text/plain": [
              "<Figure size 432x288 with 1 Axes>"
            ],
            "image/png": "[encoded data removed]"
          },
          "metadata": {
            "needs_background": "light"
          }
        }
      ]
    },
    {
      "cell_type": "code",
      "source": [
        "W"
      ],
      "metadata": {
        "colab": {
          "base_uri": "https://localhost:8080/"
        },
        "id": "DYVrYwS-qwU7",
        "outputId": "f2c96cd4-5bba-406a-dc61-01f3f11224de"
      },
      "execution_count": 179,
      "outputs": [
        {
          "output_type": "execute_result",
          "data": {
            "text/plain": [
              "array([ 0.5869903 , -0.06819397, -0.1023921 ,  0.20066326,  0.33307745,\n",
              "        0.25012731,  0.75729924,  0.0717376 ,  0.97085835])"
            ]
          },
          "metadata": {},
          "execution_count": 179
        }
      ]
    },
    {
      "cell_type": "code",
      "source": [
        "yhat = np.dot(X_test_norm,W)\n",
        "\n",
        "#if the score is above 0.5 lets make it 1 else make it 0\n",
        "for i,v in enumerate(yhat):\n",
        "    if v >=0.56: \n",
        "        yhat[i]=1\n",
        "    else:\n",
        "        yhat[i]=0\n",
        "\n",
        "yhat.astype(int)\n",
        "\n",
        "yhat = yhat.reshape(-1,1)\n",
        "\n"
      ],
      "metadata": {
        "id": "ltAc7XvXwJNB"
      },
      "execution_count": 180,
      "outputs": []
    },
    {
      "cell_type": "code",
      "source": [
        "#error and acuracy \n",
        "error=sum((yhat-y_test_norm)**2)\n",
        "print(error[0])\n",
        "accuracy=1-(error/100)\n",
        "print(accuracy[0])   "
      ],
      "metadata": {
        "colab": {
          "base_uri": "https://localhost:8080/"
        },
        "id": "GY0f-S0JxEDJ",
        "outputId": "1ad18c92-7654-427a-f277-6b64339e0ed7"
      },
      "execution_count": 181,
      "outputs": [
        {
          "output_type": "stream",
          "name": "stdout",
          "text": [
            "5.0\n",
            "0.95\n"
          ]
        }
      ]
    },
    {
      "cell_type": "code",
      "source": [
        "#confusion matrix creation\n",
        "confusion_m =[[0,0],[0,0]]\n",
        "\n",
        "#               Actual Yes         Actual No\n",
        "#Predicted YES      a00               a01\n",
        "#Predicted NO       a10               a11   \n",
        "\n",
        "for i in range(len(yhat)):\n",
        "  if(yhat[i] == y_test_norm[i] and yhat[i]==1):\n",
        "    confusion_m[0][0]+=1\n",
        "  elif(yhat[i] == y_test_norm[i] and yhat[i]==0):\n",
        "    confusion_m[1][1]+=1\n",
        "  elif(yhat[i]==1 and y_test_norm[i]==0):\n",
        "    confusion_m[0][1]+=1\n",
        "  elif(yhat[i]==0 and y_test_norm[i]==1):\n",
        "    confusion_m[1][0]+=1\n",
        "\n",
        "print(confusion_m)"
      ],
      "metadata": {
        "colab": {
          "base_uri": "https://localhost:8080/"
        },
        "id": "PQrW_qfUxvrv",
        "outputId": "d88b7ef0-5b36-45c1-b57a-eb292d2f486b"
      },
      "execution_count": 182,
      "outputs": [
        {
          "output_type": "stream",
          "name": "stdout",
          "text": [
            "[[50, 5], [0, 82]]\n"
          ]
        }
      ]
    }
  ]
}